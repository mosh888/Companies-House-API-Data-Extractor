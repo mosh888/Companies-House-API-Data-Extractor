{
 "cells": [
  {
   "cell_type": "markdown",
   "id": "bc8adf98-9ac0-4629-bcfc-13ea9f2ba126",
   "metadata": {},
   "source": [
    "Cell 1: Importing Libraries and Setting API Key"
   ]
  },
  {
   "cell_type": "code",
   "execution_count": null,
   "id": "54e4fa4d-2da3-4478-872f-1280f8553323",
   "metadata": {},
   "outputs": [],
   "source": [
    "# Importing Libraries\n",
    "import requests\n",
    "import base64\n",
    "import pandas as pd\n",
    "\n",
    "# Your Companies House API key\n",
    "API_KEY = ''"
   ]
  },
  {
   "cell_type": "markdown",
   "id": "7acc0588-7d97-47fb-b37f-ff9ece92bd51",
   "metadata": {},
   "source": [
    "Cell 2: Defining Functions"
   ]
  },
  {
   "cell_type": "code",
   "execution_count": null,
   "id": "093ddd84-ce1c-417d-92fe-2f5cc9ca13fc",
   "metadata": {},
   "outputs": [],
   "source": [
    "# Function for Searching Director and Secretary\n",
    "def get_company_details(company_name, base64_api_key):\n",
    "    # The endpoint URL for searching companies\n",
    "    search_endpoint = 'https://api.companieshouse.gov.uk/search/companies'\n",
    "    \n",
    "    # Set up the parameters for the search query\n",
    "    params = {'q': company_name}\n",
    "    \n",
    "    # Set up the request headers with the encoded API key\n",
    "    headers = {'Authorization': 'Basic ' + base64_api_key}\n",
    "    \n",
    "    # Send a GET request to search for the company by name\n",
    "    response = requests.get(search_endpoint, params=params, headers=headers)\n",
    "    \n",
    "    # Check if the request was successful (status code 200)\n",
    "    if response.status_code == 200:\n",
    "        # Get the search results in JSON format\n",
    "        search_results = response.json()\n",
    "        \n",
    "        # Check if search results exist\n",
    "        if search_results['items']:\n",
    "            # Filter out dissolved companies\n",
    "            active_companies = [item for item in search_results['items'] if item.get('company_status', '') != 'dissolved']\n",
    "            if active_companies:\n",
    "                # Extract details from the first active company\n",
    "                company_number = active_companies[0]['company_number']\n",
    "                company_address = active_companies[0]['address_snippet']\n",
    "                return company_number, company_address\n",
    "            else:\n",
    "                # If no active companies are found, print a message\n",
    "                print(f'No active company found matching the name: {company_name}')\n",
    "                return None, None\n",
    "        else:\n",
    "            # If no companies are found, print a message\n",
    "            print(f'Company not found: {company_name}')\n",
    "            return None, None\n",
    "    else:\n",
    "        # If there's an error in the request, print the status code\n",
    "        print(f'Error searching companies for {company_name}:', response.status_code)\n",
    "        return None, None\n",
    "\n",
    "def get_director_and_secretary_details(company_number, base64_api_key):\n",
    "    # Endpoint URL for fetching officer details of a company\n",
    "    officers_endpoint = f'https://api.companieshouse.gov.uk/company/{company_number}/officers'\n",
    "    \n",
    "    # Set up the request headers with the encoded API key\n",
    "    headers = {'Authorization': 'Basic ' + base64_api_key}\n",
    "    \n",
    "    # Send a GET request to retrieve officer details\n",
    "    response = requests.get(officers_endpoint, headers=headers)\n",
    "    \n",
    "    # Check if the request was successful (status code 200)\n",
    "    if response.status_code == 200:\n",
    "        # Get the officer data in JSON format\n",
    "        officers_data = response.json().get('items', [])\n",
    "        \n",
    "        # Initialize variables to hold director and secretary details\n",
    "        director_name, director_role = 'N/A', 'N/A'\n",
    "        secretary_name, secretary_role = 'N/A', 'N/A'\n",
    "        \n",
    "        # Loop through officer data to find director and secretary\n",
    "        for officer in officers_data:\n",
    "            if officer.get('resigned_on') is None:\n",
    "                if officer.get('officer_role').lower() == 'director':\n",
    "                    director_name = officer.get('name', 'N/A')\n",
    "                    director_role = officer.get('officer_role', 'N/A')\n",
    "                elif officer.get('officer_role').lower() == 'secretary':\n",
    "                    secretary_name = officer.get('name', 'N/A')\n",
    "                    secretary_role = officer.get('officer_role', 'N/A')\n",
    "        \n",
    "        # Return director and secretary details as a dictionary\n",
    "        return {\n",
    "            'Director Name': director_name,\n",
    "            'Director Role': director_role,\n",
    "            'Secretary Name': secretary_name,\n",
    "            'Secretary Role': secretary_role\n",
    "        }\n",
    "    \n",
    "    else:\n",
    "        # If there's an error in the request, print the status code\n",
    "        print(f'Error retrieving officers for company number {company_number}:', response.status_code)\n",
    "        return None\n"
   ]
  },
  {
   "cell_type": "markdown",
   "id": "d82f90a1-213c-4c13-a76e-5beabd668b47",
   "metadata": {},
   "source": [
    "Cell 3: List of Company Names"
   ]
  },
  {
   "cell_type": "code",
   "execution_count": null,
   "id": "f2cf3dca-0fa0-423e-b454-543b9d030b4a",
   "metadata": {},
   "outputs": [],
   "source": [
    "# This cell is used to encode the API key and define company names list\n",
    "base64_api_key = base64.b64encode(API_KEY.encode()).decode()\n",
    "\n",
    "# Example list of company names\n",
    "company_names = []\n"
   ]
  },
  {
   "cell_type": "code",
   "execution_count": null,
   "id": "e7e8a969",
   "metadata": {},
   "outputs": [],
   "source": [
    "# Extract Company Names from an Excel File\n",
    "# Path to the Excel file (you need to specify this)\n",
    "excel_file_path = ''\n",
    "\n",
    "# Specify the sheet name or index and column name\n",
    "sheet_name = 'Sheet1'  # or the index, e.g., 0 for the first sheet\n",
    "column_name = 'Company name'  # Replace 'Column_Name' with the name of your column\n",
    "\n",
    "# Load the Excel file\n",
    "df = pd.read_excel(excel_file_path, sheet_name=sheet_name)\n",
    "\n",
    "# Ensure the column exists to avoid KeyError\n",
    "if column_name in df.columns:\n",
    "    # Add the data from the column to your list\n",
    "    company_names = df[column_name].tolist()\n",
    "    print(\"Data added to the list successfully!\")\n",
    "else:\n",
    "    print(f\"The column '{column_name}' does not exist in the sheet '{sheet_name}'.\")\n",
    "\n",
    "# Print the updated list (optional)\n",
    "print(company_names)"
   ]
  },
  {
   "cell_type": "markdown",
   "id": "262307ba-d730-44a1-990f-62fa23455e72",
   "metadata": {},
   "source": [
    "Cell 4: Extracting and Processing Data"
   ]
  },
  {
   "cell_type": "code",
   "execution_count": null,
   "id": "57b24ce6-1ebd-47ea-81ba-5ce4b648507f",
   "metadata": {},
   "outputs": [],
   "source": [
    "# Extracting Data from Companies House\n",
    "    # Prepare the list to hold all the rows\n",
    "table_rows = []\n",
    "\n",
    "    # Iterate through each company name in the list\n",
    "for company_name in company_names:\n",
    "    try:\n",
    "        company_number, company_address = get_company_details(company_name, base64_api_key)\n",
    "        if company_number and company_address:\n",
    "            # Fetch director and secretary details\n",
    "            director_secretary_data = get_director_and_secretary_details(company_number, base64_api_key)\n",
    "                \n",
    "            if director_secretary_data:\n",
    "                # Append row with company details, director details, and secretary details\n",
    "                table_rows.append([\n",
    "                    company_name, company_number, company_address,\n",
    "                    director_secretary_data['Director Name'], director_secretary_data['Director Role'],\n",
    "                    director_secretary_data['Secretary Name'], director_secretary_data['Secretary Role']\n",
    "                ])\n",
    "                print(f\"Successfully retrieved data for company: {company_name}\")\n",
    "            else:\n",
    "                print(f\"No director and secretary data found for company: {company_name}\")\n",
    "        else:\n",
    "            print(f\"No valid company details found for company: {company_name}\")\n",
    "    except Exception as e:\n",
    "        print(f\"Error retrieving data for company {company_name}: {e}\")"
   ]
  },
  {
   "cell_type": "markdown",
   "id": "74aa12c0-32c0-4cab-8feb-1c9c34cab589",
   "metadata": {},
   "source": [
    "Cell 5: Creating and Displaying DataFrame"
   ]
  },
  {
   "cell_type": "code",
   "execution_count": null,
   "id": "af5289b2-4564-4935-a546-90dcf31aaa77",
   "metadata": {},
   "outputs": [],
   "source": [
    "# Create a DataFrame from the table_rows\n",
    "df = pd.DataFrame(table_rows, columns=['Company Name', 'Company Number', 'Company Address',\n",
    "                                           'Director Name', 'Director Role',\n",
    "                                           'Secretary Name', 'Secretary Role'])\n",
    "\n",
    "# Display the DataFrame in Jupyter Notebook\n",
    "df.tail()"
   ]
  },
  {
   "cell_type": "markdown",
   "id": "65543bfe",
   "metadata": {},
   "source": [
    "Cell 6: Extracting Data to an Excel File"
   ]
  },
  {
   "cell_type": "code",
   "execution_count": null,
   "id": "4f68d15d-e05e-4330-bd90-75598b133a58",
   "metadata": {},
   "outputs": [],
   "source": [
    "# Export the DataFrame to an Excel file\n",
    "df.to_excel('', index=False)\n",
    "\n"
   ]
  },
  {
   "cell_type": "code",
   "execution_count": null,
   "id": "01b5422e",
   "metadata": {},
   "outputs": [],
   "source": []
  }
 ],
 "metadata": {
  "kernelspec": {
   "display_name": "Python 3 (ipykernel)",
   "language": "python",
   "name": "python3"
  },
  "language_info": {
   "codemirror_mode": {
    "name": "ipython",
    "version": 3
   },
   "file_extension": ".py",
   "mimetype": "text/x-python",
   "name": "python",
   "nbconvert_exporter": "python",
   "pygments_lexer": "ipython3",
   "version": "3.11.7"
  }
 },
 "nbformat": 4,
 "nbformat_minor": 5
}
